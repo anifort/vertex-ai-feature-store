{
 "cells": [
  {
   "cell_type": "markdown",
   "id": "a54a3471",
   "metadata": {},
   "source": [
    "# Featurestore - Mars21\n",
    "## Data Injestion\n",
    "Christos Aniftos \\\n",
    "Soeren Petersen"
   ]
  },
  {
   "cell_type": "code",
   "execution_count": null,
   "id": "af5afafd",
   "metadata": {},
   "outputs": [],
   "source": [
    "from google.api_core import operations_v1\n",
    "from google.cloud.aiplatform_v1beta1.types import io as io_pb2\n",
    "from google.cloud.aiplatform_v1beta1.types.feature import Feature\n",
    "from google.cloud.aiplatform_v1beta1 import FeaturestoreServiceClient\n",
    "from google.cloud.aiplatform_v1beta1 import FeaturestoreOnlineServingServiceClient\n",
    "from google.cloud.aiplatform_v1beta1.types import entity_type as entity_type_pb2\n",
    "from google.cloud.aiplatform_v1beta1.types import featurestore as featurestore_pb2\n",
    "from google.cloud.aiplatform_v1beta1.types import feature_selector as feature_selector_pb2\n",
    "from google.cloud.aiplatform_v1beta1.types import featurestore_service as featurestore_service_pb2\n",
    "from google.cloud.aiplatform_v1beta1.types import featurestore_online_service as featurestore_online_service_pb2"
   ]
  },
  {
   "cell_type": "code",
   "execution_count": null,
   "id": "a1dd646b",
   "metadata": {},
   "outputs": [],
   "source": [
    "PROJECT_ID = \"PROJECT_ID\" # Change to your project id\n",
    "LOCATION = \"us-central1\" \n",
    "API_ENDPOINT = LOCATION+\"-aiplatform.googleapis.com\" \n",
    "FEATURESTORE_ID = \"universe\"\n",
    "ENTITY=\"planets\""
   ]
  },
  {
   "cell_type": "markdown",
   "id": "09814ff3",
   "metadata": {},
   "source": [
    "## Define clinets for FS admin and data management"
   ]
  },
  {
   "cell_type": "code",
   "execution_count": null,
   "id": "2be7d10b",
   "metadata": {},
   "outputs": [],
   "source": [
    "# Create admin_client for CRUD \n",
    "admin_client = FeaturestoreServiceClient(\n",
    "    client_options={\"api_endpoint\": API_ENDPOINT})"
   ]
  },
  {
   "cell_type": "code",
   "execution_count": null,
   "id": "2d59cc79",
   "metadata": {},
   "outputs": [],
   "source": [
    "LOC_PATH = admin_client.common_location_path(PROJECT_ID, LOCATION)\n",
    "FS_PATH = admin_client.featurestore_path(PROJECT_ID, LOCATION, FEATURESTORE_ID)\n",
    "ENTITY_PATH = admin_client.entity_type_path(PROJECT_ID, LOCATION, FEATURESTORE_ID, ENTITY)\n",
    "FEATURE_PATH = admin_client.feature_path(PROJECT_ID, LOCATION, FEATURESTORE_ID, ENTITY, '{}')\n",
    "\n",
    "print(\"Location: \\t\", LOC_PATH)\n",
    "print(\"Feature Store: \\t\", FS_PATH)\n",
    "print(\"Entity: \\t\", ENTITY_PATH)\n",
    "print(\"Feature: \\t\",FEATURE_PATH)"
   ]
  },
  {
   "cell_type": "markdown",
   "id": "a7f1e737",
   "metadata": {},
   "source": [
    "## Injest"
   ]
  },
  {
   "cell_type": "markdown",
   "id": "66e9a08c",
   "metadata": {},
   "source": [
    "#### prepare aggregated data to injest- this creates a temporary bq table with the features"
   ]
  },
  {
   "cell_type": "code",
   "execution_count": null,
   "id": "395648f2",
   "metadata": {},
   "outputs": [],
   "source": [
    "from google.cloud import bigquery\n",
    "date_1 = \"2012-09-02 00:00:00+00:00\"\n",
    "date_2 = \"2012-10-02 00:00:00+00:00\"\n",
    "date_3 = \"2012-11-02 00:00:00+00:00\"\n",
    "# Construct a BigQuery client object.\n",
    "client = bigquery.Client()\n",
    "\n",
    "query = \"\"\"\n",
    "CREATE OR REPLACE TABLE mars.planets_tmp AS \n",
    "SELECT * FROM (SELECT \n",
    "    *,\n",
    "    ML.STANDARD_SCALER(sol) OVER() sol_std,\n",
    "    ML.STANDARD_SCALER(min_temp) OVER() min_temp_std,\n",
    "    ML.STANDARD_SCALER(max_temp) OVER() max_temp_std,\n",
    "    ML.STANDARD_SCALER(pressure) OVER() pressure_std,\n",
    "    ML.STANDARD_SCALER(ls) OVER() ls_std,\n",
    "    AVG(pressure) OVER (PARTITION BY planet ORDER BY terrestrial_date ROWS BETWEEN 5 PRECEDING AND CURRENT ROW) pressure_5_days,\n",
    "    AVG(min_temp) OVER (PARTITION BY planet ORDER BY terrestrial_date ROWS BETWEEN 5 PRECEDING AND CURRENT ROW) min_temp_5_days,\n",
    "    AVG(max_temp) OVER (PARTITION BY planet ORDER BY terrestrial_date ROWS BETWEEN 5 PRECEDING AND CURRENT ROW) max_temp_5_days,\n",
    "    AVG(ls) OVER (PARTITION BY planet ORDER BY terrestrial_date ROWS BETWEEN 5 PRECEDING AND CURRENT ROW) ls_5_days,\n",
    "    ARRAY_AGG(pressure) OVER (PARTITION BY planet ORDER BY terrestrial_date ROWS BETWEEN 2 PRECEDING AND CURRENT ROW) pressure_last_3_days,\n",
    "    ARRAY_AGG(ls) OVER (PARTITION BY planet ORDER BY terrestrial_date ROWS BETWEEN 2 PRECEDING AND CURRENT ROW) ls_last_3_days,\n",
    "    ARRAY_AGG(min_temp) OVER (PARTITION BY planet ORDER BY terrestrial_date ROWS BETWEEN 2 PRECEDING AND CURRENT ROW) min_temp_last_3_days,\n",
    "    ARRAY_AGG(max_temp) OVER (PARTITION BY planet ORDER BY terrestrial_date ROWS BETWEEN 2 PRECEDING AND CURRENT ROW) max_temp_last_3_days,\n",
    "FROM\n",
    "(SELECT \n",
    "    id,\n",
    "    CAST(terrestrial_date AS TIMESTAMP) as terrestrial_date,\n",
    "    sol,\n",
    "    ls,\n",
    "    month,\n",
    "    min_temp,\n",
    "    max_temp,\n",
    "    pressure,\n",
    "    atmo_opacity,\n",
    "    'mars' AS planet\n",
    " FROM `feature-store-mars21.mars.weather`\n",
    " WHERE IS_NAN(min_temp) IS False\n",
    " and IS_NAN(max_temp) IS False\n",
    " and IS_NAN(ls) IS False\n",
    " and IS_NAN(pressure) IS False)\n",
    "UNION ALL\n",
    "\n",
    "### Pluto\n",
    "SELECT \n",
    "    *,\n",
    "    ML.STANDARD_SCALER(sol) OVER() sol_std,\n",
    "    ML.STANDARD_SCALER(min_temp) OVER() min_temp_std,\n",
    "    ML.STANDARD_SCALER(max_temp) OVER() max_temp_std,\n",
    "    ML.STANDARD_SCALER(pressure) OVER() pressure_std,\n",
    "    ML.STANDARD_SCALER(ls) OVER() ls_std,\n",
    "    AVG(pressure) OVER (PARTITION BY planet ORDER BY terrestrial_date ROWS BETWEEN 5 PRECEDING AND CURRENT ROW) pressure_5_days,\n",
    "    AVG(min_temp) OVER (PARTITION BY planet ORDER BY terrestrial_date ROWS BETWEEN 5 PRECEDING AND CURRENT ROW) min_temp_5_days,\n",
    "    AVG(max_temp) OVER (PARTITION BY planet ORDER BY terrestrial_date ROWS BETWEEN 5 PRECEDING AND CURRENT ROW) max_temp_5_days,\n",
    "    AVG(ls) OVER (PARTITION BY planet ORDER BY terrestrial_date ROWS BETWEEN 5 PRECEDING AND CURRENT ROW) ls_5_days,\n",
    "    ARRAY_AGG(pressure) OVER (PARTITION BY planet ORDER BY terrestrial_date ROWS BETWEEN 2 PRECEDING AND CURRENT ROW) pressure_last_3_days,\n",
    "    ARRAY_AGG(ls) OVER (PARTITION BY planet ORDER BY terrestrial_date ROWS BETWEEN 2 PRECEDING AND CURRENT ROW) ls_last_3_days,\n",
    "    ARRAY_AGG(min_temp) OVER (PARTITION BY planet ORDER BY terrestrial_date ROWS BETWEEN 2 PRECEDING AND CURRENT ROW) min_temp_last_3_days,\n",
    "    ARRAY_AGG(max_temp) OVER (PARTITION BY planet ORDER BY terrestrial_date ROWS BETWEEN 2 PRECEDING AND CURRENT ROW) max_temp_last_3_days,\n",
    "FROM\n",
    "(SELECT \n",
    "    id,\n",
    "    CAST(terrestrial_date AS TIMESTAMP) as terrestrial_date,\n",
    "    2*sol sol,\n",
    "    2*ls ls,\n",
    "    month,\n",
    "    2*min_temp min_temp,\n",
    "    2*max_temp max_temp,\n",
    "    2*pressure pressure,\n",
    "    atmo_opacity,\n",
    "    'pluto' AS planet\n",
    " FROM `feature-store-mars21.mars.weather`\n",
    " WHERE IS_NAN(min_temp) IS False\n",
    " and IS_NAN(max_temp) IS False\n",
    " and IS_NAN(ls) IS False\n",
    " and IS_NAN(pressure) IS False)\n",
    "\n",
    "UNION ALL\n",
    "\n",
    " ### Jupyter\n",
    "SELECT \n",
    "    *,\n",
    "    ML.STANDARD_SCALER(sol) OVER() sol_std,\n",
    "    ML.STANDARD_SCALER(min_temp) OVER() min_temp_std,\n",
    "    ML.STANDARD_SCALER(max_temp) OVER() max_temp_std,\n",
    "    ML.STANDARD_SCALER(pressure) OVER() pressure_std,\n",
    "    ML.STANDARD_SCALER(ls) OVER() ls_std,\n",
    "    AVG(pressure) OVER (PARTITION BY planet ORDER BY terrestrial_date ROWS BETWEEN 5 PRECEDING AND CURRENT ROW) pressure_5_days,\n",
    "    AVG(min_temp) OVER (PARTITION BY planet ORDER BY terrestrial_date ROWS BETWEEN 5 PRECEDING AND CURRENT ROW) min_temp_5_days,\n",
    "    AVG(max_temp) OVER (PARTITION BY planet ORDER BY terrestrial_date ROWS BETWEEN 5 PRECEDING AND CURRENT ROW) max_temp_5_days,\n",
    "    AVG(ls) OVER (PARTITION BY planet ORDER BY terrestrial_date ROWS BETWEEN 5 PRECEDING AND CURRENT ROW) ls_5_days,\n",
    "    ARRAY_AGG(pressure) OVER (PARTITION BY planet ORDER BY terrestrial_date ROWS BETWEEN 2 PRECEDING AND CURRENT ROW) pressure_last_3_days,\n",
    "    ARRAY_AGG(ls) OVER (PARTITION BY planet ORDER BY terrestrial_date ROWS BETWEEN 2 PRECEDING AND CURRENT ROW) ls_last_3_days,\n",
    "    ARRAY_AGG(min_temp) OVER (PARTITION BY planet ORDER BY terrestrial_date ROWS BETWEEN 2 PRECEDING AND CURRENT ROW) min_temp_last_3_days,\n",
    "    ARRAY_AGG(max_temp) OVER (PARTITION BY planet ORDER BY terrestrial_date ROWS BETWEEN 2 PRECEDING AND CURRENT ROW) max_temp_last_3_days,\n",
    "FROM\n",
    "(SELECT \n",
    "    id,\n",
    "    CAST(terrestrial_date AS TIMESTAMP) as terrestrial_date,\n",
    "    3*sol sol,\n",
    "    3*ls ls,\n",
    "    month,\n",
    "    3*min_temp min_temp,\n",
    "    3*max_temp max_temp,\n",
    "    3*pressure pressure,\n",
    "    atmo_opacity,\n",
    "    'jupyter' AS planet\n",
    " FROM `feature-store-mars21.mars.weather`\n",
    " WHERE IS_NAN(min_temp) IS False\n",
    " and IS_NAN(max_temp) IS False\n",
    " and IS_NAN(ls) IS False\n",
    " and IS_NAN(pressure) IS False))\n",
    " WHERE terrestrial_date=TIMESTAMP(\"{}\")\n",
    "\"\"\".format(date_1)\n",
    "query_job = client.query(query)  # Make an API request."
   ]
  },
  {
   "cell_type": "code",
   "execution_count": null,
   "id": "01ea47e1",
   "metadata": {},
   "outputs": [],
   "source": [
    "query_job.result()"
   ]
  },
  {
   "cell_type": "markdown",
   "id": "258bf319",
   "metadata": {},
   "source": [
    "### Supported injest modes\n",
    "\n",
    "avro_source (google.cloud.aiplatform_v1beta1.types.AvroSource):\n",
    "\n",
    "bigquery_source (google.cloud.aiplatform_v1beta1.types.BigQuerySource):\n",
    "\n",
    "csv_source (google.cloud.aiplatform_v1beta1.types.CsvSource):"
   ]
  },
  {
   "cell_type": "markdown",
   "id": "d5b6b97f",
   "metadata": {},
   "source": [
    "### Injest from temp table to feature store"
   ]
  },
  {
   "cell_type": "code",
   "execution_count": null,
   "id": "e1caf166",
   "metadata": {},
   "outputs": [],
   "source": [
    "import_request = featurestore_service_pb2.ImportFeatureValuesRequest(\n",
    "    entity_type=ENTITY_PATH,\n",
    "    bigquery_source=io_pb2.BigQuerySource(\n",
    "        input_uri=\"bq://feature-store-mars21.mars.three_planets_tmp\"\n",
    "    ),\n",
    "    feature_specs=[\n",
    "        featurestore_service_pb2.ImportFeatureValuesRequest.FeatureSpec(\n",
    "            id=\"ls\", source_field=\"ls\"),\n",
    "        featurestore_service_pb2.ImportFeatureValuesRequest.FeatureSpec(\n",
    "            id=\"month\", source_field=\"month\"),\n",
    "        featurestore_service_pb2.ImportFeatureValuesRequest.FeatureSpec(\n",
    "            id=\"max_temp\", source_field=\"max_temp\"),\n",
    "        featurestore_service_pb2.ImportFeatureValuesRequest.FeatureSpec(\n",
    "            id=\"min_temp\", source_field=\"min_temp\"),\n",
    "        featurestore_service_pb2.ImportFeatureValuesRequest.FeatureSpec(\n",
    "            id=\"pressure\", source_field=\"pressure\"),\n",
    "        featurestore_service_pb2.ImportFeatureValuesRequest.FeatureSpec(\n",
    "            id=\"atmo_opacity\", source_field=\"atmo_opacity\"),\n",
    "        featurestore_service_pb2.ImportFeatureValuesRequest.FeatureSpec(\n",
    "            id=\"max_temp_std\", source_field=\"max_temp_std\"),\n",
    "        featurestore_service_pb2.ImportFeatureValuesRequest.FeatureSpec(\n",
    "            id=\"min_temp_std\", source_field=\"min_temp_std\"),\n",
    "        featurestore_service_pb2.ImportFeatureValuesRequest.FeatureSpec(\n",
    "            id=\"pressure_std\", source_field=\"pressure_std\"),\n",
    "        featurestore_service_pb2.ImportFeatureValuesRequest.FeatureSpec(\n",
    "            id=\"avg_pressure_5d\", source_field=\"pressure_5_days\"),\n",
    "        featurestore_service_pb2.ImportFeatureValuesRequest.FeatureSpec(\n",
    "            id=\"avg_min_temp_5d\", source_field=\"min_temp_5_days\"),\n",
    "        featurestore_service_pb2.ImportFeatureValuesRequest.FeatureSpec(\n",
    "            id=\"avg_max_temp_5d\", source_field=\"max_temp_5_days\"),\n",
    "        featurestore_service_pb2.ImportFeatureValuesRequest.FeatureSpec(\n",
    "            id=\"arr_pressure_3d\", source_field=\"pressure_last_3_days\"),\n",
    "        featurestore_service_pb2.ImportFeatureValuesRequest.FeatureSpec(\n",
    "            id=\"arr_min_temp_3d\", source_field=\"min_temp_last_3_days\"),\n",
    "        featurestore_service_pb2.ImportFeatureValuesRequest.FeatureSpec(\n",
    "            id=\"arr_max_temp_3d\", source_field=\"max_temp_last_3_days\")\n",
    "    ],\n",
    "    entity_id_field=\"planet\",\n",
    "    feature_time_field=\"terrestrial_date\",\n",
    "    worker_count=5)"
   ]
  },
  {
   "cell_type": "code",
   "execution_count": null,
   "id": "c74906ac",
   "metadata": {},
   "outputs": [],
   "source": []
  },
  {
   "cell_type": "code",
   "execution_count": null,
   "id": "8efed5a9",
   "metadata": {},
   "outputs": [],
   "source": [
    "%%time\n",
    "admin_client.import_feature_values(import_request).result()"
   ]
  },
  {
   "cell_type": "code",
   "execution_count": null,
   "id": "03ce85ed",
   "metadata": {},
   "outputs": [],
   "source": []
  }
 ],
 "metadata": {
  "environment": {
   "name": "common-cpu.m69",
   "type": "gcloud",
   "uri": "gcr.io/deeplearning-platform-release/base-cpu:m69"
  },
  "kernelspec": {
   "display_name": "Python 3",
   "language": "python",
   "name": "python3"
  },
  "language_info": {
   "codemirror_mode": {
    "name": "ipython",
    "version": 3
   },
   "file_extension": ".py",
   "mimetype": "text/x-python",
   "name": "python",
   "nbconvert_exporter": "python",
   "pygments_lexer": "ipython3",
   "version": "3.7.10"
  }
 },
 "nbformat": 4,
 "nbformat_minor": 5
}
