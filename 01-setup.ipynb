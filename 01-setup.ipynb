{
 "cells": [
  {
   "cell_type": "markdown",
   "id": "f7da046b",
   "metadata": {},
   "source": [
    "# Featurestore - Mars21\n",
    "## Feature Store Setup\n",
    "Christos Aniftos \\\n",
    "Soeren Petersen"
   ]
  },
  {
   "cell_type": "markdown",
   "id": "da1a0de0",
   "metadata": {},
   "source": [
    "## Install required libraries"
   ]
  },
  {
   "cell_type": "markdown",
   "id": "e37dfd09",
   "metadata": {},
   "source": [
    "## Import modules"
   ]
  },
  {
   "cell_type": "code",
   "execution_count": null,
   "id": "dc4755b6",
   "metadata": {},
   "outputs": [],
   "source": [
    "from google.cloud import aiplatform"
   ]
  },
  {
   "cell_type": "code",
   "execution_count": null,
   "id": "0b682f02",
   "metadata": {},
   "outputs": [],
   "source": [
    "from google.api_core import operations_v1\n",
    "from google.cloud.aiplatform_v1beta1.types import io as io_pb2\n",
    "from google.cloud.aiplatform_v1beta1.types import FeaturestoreMonitoringConfig\n",
    "from google.cloud.aiplatform_v1beta1.types.feature import Feature\n",
    "from google.cloud.aiplatform_v1beta1 import FeaturestoreServiceClient\n",
    "from google.cloud.aiplatform_v1beta1 import FeaturestoreOnlineServingServiceClient\n",
    "from google.cloud.aiplatform_v1beta1.types import entity_type as entity_type_pb2\n",
    "from google.cloud.aiplatform_v1beta1.types import featurestore as featurestore_pb2\n",
    "from google.cloud.aiplatform_v1beta1.types import feature_selector as feature_selector_pb2\n",
    "from google.cloud.aiplatform_v1beta1.types import featurestore_service as featurestore_service_pb2\n",
    "from google.cloud.aiplatform_v1beta1.types import featurestore_online_service as featurestore_online_service_pb2"
   ]
  },
  {
   "cell_type": "code",
   "execution_count": null,
   "id": "b76d4495",
   "metadata": {},
   "outputs": [],
   "source": [
    "PROJECT_ID = \"PROJECT_ID\" # Change to your project id\n",
    "LOCATION = \"us-central1\" \n",
    "API_ENDPOINT = LOCATION+\"-aiplatform.googleapis.com\" \n",
    "FEATURESTORE_ID = \"universe\"\n",
    "ENTITY=\"planets\""
   ]
  },
  {
   "cell_type": "markdown",
   "id": "89b69a57",
   "metadata": {},
   "source": [
    "## Define clinets for FS admin and data management"
   ]
  },
  {
   "cell_type": "code",
   "execution_count": null,
   "id": "b9d4a601",
   "metadata": {},
   "outputs": [],
   "source": [
    "# Create admin_client for CRUD\n",
    "admin_client = FeaturestoreServiceClient(\n",
    "    client_options={\"api_endpoint\": API_ENDPOINT})"
   ]
  },
  {
   "cell_type": "code",
   "execution_count": null,
   "id": "82d05736",
   "metadata": {},
   "outputs": [],
   "source": [
    "LOC_PATH = admin_client.common_location_path(PROJECT_ID, LOCATION)\n",
    "FS_PATH = admin_client.featurestore_path(PROJECT_ID, LOCATION, FEATURESTORE_ID)\n",
    "ENTITY_PATH = admin_client.entity_type_path(PROJECT_ID, LOCATION, FEATURESTORE_ID, ENTITY)\n",
    "FEATURE_PATH = admin_client.feature_path(PROJECT_ID, LOCATION, FEATURESTORE_ID, ENTITY, '{}')\n",
    "\n",
    "print(\"Location: \\t\", LOC_PATH)\n",
    "print(\"Feature Store: \\t\", FS_PATH)\n",
    "print(\"Entity: \\t\", ENTITY_PATH)\n",
    "print(\"Feature: \\t\",FEATURE_PATH)"
   ]
  },
  {
   "cell_type": "code",
   "execution_count": null,
   "id": "2f5ead0c",
   "metadata": {},
   "outputs": [],
   "source": [
    "# Create operation client to poll LRO status.\n",
    "#lro_client = operations_v1.OperationsClient(admin_client.transport.grpc_channel)"
   ]
  },
  {
   "cell_type": "markdown",
   "id": "7993a00b",
   "metadata": {},
   "source": [
    "## Create FeatureStore"
   ]
  },
  {
   "cell_type": "code",
   "execution_count": null,
   "id": "c0dc93a7",
   "metadata": {},
   "outputs": [],
   "source": [
    "new_feature_store = featurestore_pb2.Featurestore(\n",
    "            online_serving_config=featurestore_pb2.Featurestore.OnlineServingConfig(\n",
    "                fixed_node_count=1, # The number of nodes for each cluster (bigtable)\n",
    "            )\n",
    "        )\n",
    "try:\n",
    "    print(\n",
    "        admin_client.create_featurestore(\n",
    "            featurestore_service_pb2.CreateFeaturestoreRequest(\n",
    "                parent=LOC_PATH,\n",
    "                featurestore_id=FEATURESTORE_ID,\n",
    "                featurestore= new_feature_store\n",
    "            )\n",
    "        ).result()\n",
    "    )\n",
    "except Exception as ex:\n",
    "    print(ex)"
   ]
  },
  {
   "cell_type": "markdown",
   "id": "642fd002",
   "metadata": {},
   "source": [
    " ## List all Feature Stores"
   ]
  },
  {
   "cell_type": "code",
   "execution_count": null,
   "id": "26da913a",
   "metadata": {},
   "outputs": [],
   "source": [
    "list(admin_client.list_featurestores(parent=LOC_PATH))"
   ]
  },
  {
   "cell_type": "markdown",
   "id": "20b57483",
   "metadata": {},
   "source": [
    "## Get Feature store by name"
   ]
  },
  {
   "cell_type": "code",
   "execution_count": null,
   "id": "91acd5d7",
   "metadata": {},
   "outputs": [],
   "source": [
    "try:\n",
    "    feature_store_obj = admin_client.get_featurestore(name = FS_PATH)\n",
    "    feature_store_obj.online_serving_config.fixed_node_count=2\n",
    "    admin_client.update_featurestore(\n",
    "        featurestore_service_pb2.UpdateFeaturestoreRequest(featurestore=feature_store_obj)\n",
    "    )\n",
    "except Exception as ex:\n",
    "    print(ex)\n",
    "feature_store_obj.online_serving_config"
   ]
  },
  {
   "cell_type": "markdown",
   "id": "743885f9",
   "metadata": {},
   "source": [
    "### Update feature store (changing online serving nodes)"
   ]
  },
  {
   "cell_type": "code",
   "execution_count": null,
   "id": "0531167e",
   "metadata": {},
   "outputs": [],
   "source": [
    "feature_store_obj.online_serving_config.fixed_node_count=1\n",
    "admin_client.update_featurestore(\n",
    "    featurestore_service_pb2.UpdateFeaturestoreRequest(featurestore=feature_store_obj)\n",
    ")"
   ]
  },
  {
   "cell_type": "markdown",
   "id": "36bfcbb4",
   "metadata": {},
   "source": [
    "## Create a feature store Entity"
   ]
  },
  {
   "cell_type": "code",
   "execution_count": null,
   "id": "c0e98fe4",
   "metadata": {},
   "outputs": [],
   "source": [
    "try:\n",
    "    entity_type_obj = admin_client.create_entity_type(\n",
    "        featurestore_service_pb2.CreateEntityTypeRequest(\n",
    "            parent=FS_PATH,\n",
    "            entity_type_id=ENTITY, \n",
    "            entity_type=entity_type_pb2.EntityType(description=\"planet features\"))).result()\n",
    "    print(entity_type_obj)\n",
    "except Exception as ex:\n",
    "    print(ex)"
   ]
  },
  {
   "cell_type": "code",
   "execution_count": null,
   "id": "be33ce92",
   "metadata": {},
   "outputs": [],
   "source": [
    "type(entity_type_obj)"
   ]
  },
  {
   "cell_type": "code",
   "execution_count": null,
   "id": "d34cc510",
   "metadata": {},
   "outputs": [],
   "source": [
    "from google.protobuf import duration_pb2 as duration \n",
    "\n",
    "duration = duration.Duration()\n",
    "duration.FromSeconds(seconds=60)\n",
    "\n",
    "\n",
    "fmc=FeaturestoreMonitoringConfig(\n",
    "    snapshot_analysis = FeaturestoreMonitoringConfig.SnapshotAnalysis(disabled=False, monitoring_interval = duration))\n",
    "fmc"
   ]
  },
  {
   "cell_type": "code",
   "execution_count": null,
   "id": "77f92629",
   "metadata": {},
   "outputs": [],
   "source": [
    "entity_type_obj.monitoring_config= fmc\n",
    "entity_type_obj = admin_client.update_entity_type(featurestore_service_pb2.UpdateEntityTypeRequest(\n",
    "            entity_type=entity_type_pb2.EntityType(name=entity_type_obj.name)),\n",
    "            )"
   ]
  },
  {
   "cell_type": "markdown",
   "id": "df929b2b",
   "metadata": {},
   "source": [
    "## Create features in batch"
   ]
  },
  {
   "cell_type": "code",
   "execution_count": null,
   "id": "3478fe45",
   "metadata": {},
   "outputs": [],
   "source": [
    "features_list_tmp = []\n",
    "\n",
    "features_list_tmp.append(featurestore_service_pb2.CreateFeatureRequest(\n",
    "                feature=Feature(\n",
    "                    value_type=Feature.ValueType.INT64,\n",
    "                    description=\"Mars-Sun angle\",\n",
    "                    monitoring_config= fmc,\n",
    "                    labels=[(\"no-pii\", \"\"),(\"approved\", \"\")]),\n",
    "                feature_id=\"ls\"))\n",
    "\n",
    "features_list_tmp.append(featurestore_service_pb2.CreateFeatureRequest(\n",
    "                feature=Feature(\n",
    "                    value_type=Feature.ValueType.STRING,\n",
    "                    description=\"month \",\n",
    "                    labels=[(\"no-pii\", \"\"),(\"approved\", \"\")]),\n",
    "                feature_id=\"month\"))\n",
    "\n",
    "features_list_tmp.append(featurestore_service_pb2.CreateFeatureRequest(\n",
    "                feature=Feature(\n",
    "                    value_type=Feature.ValueType.DOUBLE,\n",
    "                    description=\"maximum temp on the day\",\n",
    "                    labels=[(\"no-pii\", \"\"),(\"approved\", \"\")]),\n",
    "                feature_id=\"max_temp\"))\n",
    "\n",
    "features_list_tmp.append(featurestore_service_pb2.CreateFeatureRequest(\n",
    "                feature=Feature(\n",
    "                    value_type=Feature.ValueType.DOUBLE,\n",
    "                    description=\"minimum temp on the day\",\n",
    "                    labels=[(\"no-pii\", \"\"),(\"approved\", \"\")]),\n",
    "                feature_id=\"min_temp\"))\n",
    "\n",
    "features_list_tmp.append(featurestore_service_pb2.CreateFeatureRequest(\n",
    "                feature=Feature(\n",
    "                    value_type=Feature.ValueType.DOUBLE,\n",
    "                    description=\"atmospheric pressure\",\n",
    "                    labels=[(\"no-pii\", \"\"),(\"approved\", \"\")]),\n",
    "                feature_id=\"pressure\"))\n",
    "\n",
    "features_list_tmp.append(featurestore_service_pb2.CreateFeatureRequest(\n",
    "                feature=Feature(\n",
    "                    value_type=Feature.ValueType.STRING,\n",
    "                    description=\"opacity in atmosphere (i.e sunny)\",\n",
    "                    labels=[(\"no-pii\", \"\")]),\n",
    "                feature_id=\"atmo_opacity\"))\n",
    "\n",
    "\n",
    "features_list_tmp.append(featurestore_service_pb2.CreateFeatureRequest(\n",
    "                feature=Feature(\n",
    "                    value_type=Feature.ValueType.DOUBLE,\n",
    "                    description=\"maximum temp standardized\",\n",
    "                    labels=[(\"no-pii\", \"\")]),\n",
    "                feature_id=\"max_temp_std\"))\n",
    "\n",
    "features_list_tmp.append(featurestore_service_pb2.CreateFeatureRequest(\n",
    "                feature=Feature(\n",
    "                    value_type=Feature.ValueType.DOUBLE,\n",
    "                    description=\"minimum temp standardized\",\n",
    "                    labels=[(\"no-pii\", \"\"),(\"approved\", \"\")]),\n",
    "                feature_id=\"min_temp_std\"))\n",
    "\n",
    "features_list_tmp.append(featurestore_service_pb2.CreateFeatureRequest(\n",
    "                feature=Feature(\n",
    "                    value_type=Feature.ValueType.DOUBLE,\n",
    "                    description=\"atmospheric pressure standardized\",\n",
    "                    labels=[(\"no-pii\", \"\"),(\"approved\", \"\")]),\n",
    "                feature_id=\"pressure_std\"))\n",
    "\n",
    "features_list_tmp.append(featurestore_service_pb2.CreateFeatureRequest(\n",
    "                feature=Feature(\n",
    "                    value_type=Feature.ValueType.DOUBLE,\n",
    "                    description=\"avarage atmospheric pressure of last 5 days\",\n",
    "                    labels=[(\"no-pii\", \"\")]),\n",
    "                feature_id=\"avg_pressure_5d\"))\n",
    "\n",
    "features_list_tmp.append(featurestore_service_pb2.CreateFeatureRequest(\n",
    "                feature=Feature(\n",
    "                    value_type=Feature.ValueType.DOUBLE,\n",
    "                    description=\"avarage min temperature of last 5 days\",\n",
    "                    labels=[(\"no-pii\", \"\"),(\"approved\", \"\")]),\n",
    "                feature_id=\"avg_min_temp_5d\"))\n",
    "\n",
    "features_list_tmp.append(featurestore_service_pb2.CreateFeatureRequest(\n",
    "                feature=Feature(\n",
    "                    value_type=Feature.ValueType.DOUBLE,\n",
    "                    description=\"avarage max temperature of last 5 days\",\n",
    "                    labels=[(\"no-pii\", \"\"),(\"approved\", \"\"),(\"validated\", \"\")]),\n",
    "                feature_id=\"avg_max_temp_5d\"))\n",
    "\n",
    "features_list_tmp.append(featurestore_service_pb2.CreateFeatureRequest(\n",
    "                feature=Feature(\n",
    "                    value_type=Feature.ValueType.DOUBLE_ARRAY,\n",
    "                    description=\"array containing last 3 atmospheric pressures\",\n",
    "                    labels=[(\"no-pii\", \"\")]),\n",
    "                feature_id=\"arr_pressure_3d\"))\n",
    "\n",
    "features_list_tmp.append(featurestore_service_pb2.CreateFeatureRequest(\n",
    "                feature=Feature(\n",
    "                    value_type=Feature.ValueType.DOUBLE_ARRAY,\n",
    "                    description=\"array containing last 3 min temperatures\",\n",
    "                    labels=[(\"no-pii\", \"\")]),\n",
    "                feature_id=\"arr_min_temp_3d\"))\n",
    "\n",
    "features_list_tmp.append(featurestore_service_pb2.CreateFeatureRequest(\n",
    "                    feature=Feature(value_type=Feature.ValueType.DOUBLE_ARRAY,\n",
    "                    description=\"array containing last 3 max temperatures\",\n",
    "                    labels=[(\"no-pii\", \"\")]),\n",
    "                feature_id=\"arr_max_temp_3d\"))\n",
    "\n",
    "try:\n",
    "    features_list = admin_client.batch_create_features(\n",
    "        parent=ENTITY_PATH,\n",
    "        requests=features_list_tmp).result()\n",
    "    print(features_list)\n",
    "except Exception as ex:\n",
    "    print(ex)"
   ]
  },
  {
   "cell_type": "markdown",
   "id": "b8c53022",
   "metadata": {},
   "source": [
    "## Update Feature"
   ]
  },
  {
   "cell_type": "code",
   "execution_count": null,
   "id": "01f7b954",
   "metadata": {},
   "outputs": [],
   "source": [
    "feature =admin_client.get_feature(name=FEATURE_PATH.format('atmo_opacity'))\n",
    "feature"
   ]
  },
  {
   "cell_type": "code",
   "execution_count": null,
   "id": "aa190c1e",
   "metadata": {},
   "outputs": [],
   "source": [
    "tmp_list = list(feature.labels.items())\n",
    "tmp_list.append((\"approved\", \"\"))\n",
    "feature.labels=tmp_list\n",
    "feature.monitoring_config= fmc"
   ]
  },
  {
   "cell_type": "code",
   "execution_count": null,
   "id": "adbaa861",
   "metadata": {},
   "outputs": [],
   "source": [
    "admin_client.update_feature(\n",
    "    featurestore_service_pb2.UpdateFeatureRequest(feature=feature)\n",
    ")"
   ]
  },
  {
   "cell_type": "markdown",
   "id": "034d69ca",
   "metadata": {},
   "source": [
    "## Delete Feature"
   ]
  },
  {
   "cell_type": "code",
   "execution_count": null,
   "id": "35680bdd",
   "metadata": {},
   "outputs": [],
   "source": [
    "#try:\n",
    "#    admin_client.delete_feature(name=FEATURE_PATH.format('last_five_max_temp')).result()\n",
    "#except Exception as ex:\n",
    "#    print(ex)"
   ]
  },
  {
   "cell_type": "markdown",
   "id": "db95fde7",
   "metadata": {},
   "source": [
    "## Search Features"
   ]
  },
  {
   "cell_type": "markdown",
   "id": "38104cbe",
   "metadata": {},
   "source": [
    "-  ``feature_id``: Supports = comparisons.\n",
    "-  ``description``: Supports = comparisons. Multi-token filters should be enclosed in quotes.\n",
    "-  ``entity_type_id``: Supports = comparisons.\n",
    "-  ``value_type``: Supports = and != comparisons.\n",
    "-  ``labels``: Supports key-value equality as well as key presence.\n",
    "-  ``featurestore_id``: Supports = comparisons."
   ]
  },
  {
   "cell_type": "code",
   "execution_count": null,
   "id": "4fd904ed",
   "metadata": {},
   "outputs": [],
   "source": [
    "admin_client.search_features(location=LOC_PATH)"
   ]
  },
  {
   "cell_type": "code",
   "execution_count": null,
   "id": "8b5e25c4",
   "metadata": {},
   "outputs": [],
   "source": [
    "q=\"featurestore_id={}\".format(FEATURESTORE_ID)\n",
    "admin_client.search_features(\n",
    "        featurestore_service_pb2.SearchFeaturesRequest(\n",
    "            location=LOC_PATH, query=q, page_size=2, page_token=\"\" ))"
   ]
  },
  {
   "cell_type": "code",
   "execution_count": null,
   "id": "65210c79",
   "metadata": {},
   "outputs": [],
   "source": [
    "q=\"\"\"\n",
    "    feature_id=arr_max_temp_3d AND \n",
    "    value_type=DOUBLE_ARRAY AND \n",
    "    featurestore_id={}\n",
    "\"\"\".format(FEATURESTORE_ID)\n",
    "\n",
    "admin_client.search_features(\n",
    "        featurestore_service_pb2.SearchFeaturesRequest(\n",
    "            location=LOC_PATH, query=q, page_size=5))"
   ]
  },
  {
   "cell_type": "code",
   "execution_count": null,
   "id": "610e7cf4",
   "metadata": {},
   "outputs": [],
   "source": []
  }
 ],
 "metadata": {
  "environment": {
   "name": "common-cpu.m69",
   "type": "gcloud",
   "uri": "gcr.io/deeplearning-platform-release/base-cpu:m69"
  },
  "kernelspec": {
   "display_name": "Python 3",
   "language": "python",
   "name": "python3"
  },
  "language_info": {
   "codemirror_mode": {
    "name": "ipython",
    "version": 3
   },
   "file_extension": ".py",
   "mimetype": "text/x-python",
   "name": "python",
   "nbconvert_exporter": "python",
   "pygments_lexer": "ipython3",
   "version": "3.7.10"
  }
 },
 "nbformat": 4,
 "nbformat_minor": 5
}
