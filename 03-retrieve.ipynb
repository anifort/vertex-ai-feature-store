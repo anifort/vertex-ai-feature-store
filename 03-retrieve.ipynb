{
 "cells": [
  {
   "cell_type": "markdown",
   "id": "4101f135",
   "metadata": {},
   "source": [
    "# Featurestore - Mars21\n",
    "## Feature retrieval (online & batch)\n",
    "Christos Aniftos \\\n",
    "Soeren Petersen"
   ]
  },
  {
   "cell_type": "code",
   "execution_count": null,
   "id": "bd2d3f5a",
   "metadata": {},
   "outputs": [],
   "source": [
    "from google.api_core import operations_v1\n",
    "from google.cloud.aiplatform_v1beta1.types import io as io_pb2\n",
    "from google.cloud.aiplatform_v1beta1.types.feature import Feature\n",
    "from google.cloud.aiplatform_v1beta1 import FeaturestoreServiceClient\n",
    "from google.cloud.aiplatform_v1beta1 import FeaturestoreOnlineServingServiceClient\n",
    "from google.cloud.aiplatform_v1beta1.types import entity_type as entity_type_pb2\n",
    "from google.cloud.aiplatform_v1beta1.types import featurestore as featurestore_pb2\n",
    "from google.cloud.aiplatform_v1beta1.types import feature_selector as feature_selector_pb2\n",
    "from google.cloud.aiplatform_v1beta1.types import featurestore_service as featurestore_service_pb2\n",
    "from google.cloud.aiplatform_v1beta1.types import featurestore_online_service as featurestore_online_service_pb2"
   ]
  },
  {
   "cell_type": "code",
   "execution_count": null,
   "id": "85f00216",
   "metadata": {},
   "outputs": [],
   "source": [
    "PROJECT_ID = \"PROJECT_ID\" # Change to your project id\n",
    "LOCATION = \"us-central1\" \n",
    "API_ENDPOINT = LOCATION+\"-aiplatform.googleapis.com\" \n",
    "FEATURESTORE_ID = \"universe\"\n",
    "ENTITY=\"planets\""
   ]
  },
  {
   "cell_type": "markdown",
   "id": "f891ec7f",
   "metadata": {},
   "source": [
    "## Define clinets for FS admin and data management"
   ]
  },
  {
   "cell_type": "code",
   "execution_count": null,
   "id": "57243524",
   "metadata": {},
   "outputs": [],
   "source": [
    "# Create admin_client for CRUD and data_client for reading feature values.\n",
    "admin_client = FeaturestoreServiceClient(\n",
    "    client_options={\"api_endpoint\": API_ENDPOINT})\n",
    "\n",
    "data_client = FeaturestoreOnlineServingServiceClient(\n",
    "    client_options={\"api_endpoint\": API_ENDPOINT})"
   ]
  },
  {
   "cell_type": "code",
   "execution_count": null,
   "id": "bbb13200",
   "metadata": {},
   "outputs": [],
   "source": [
    "LOC_PATH = admin_client.common_location_path(PROJECT_ID, LOCATION)\n",
    "FS_PATH = admin_client.featurestore_path(PROJECT_ID, LOCATION, FEATURESTORE_ID)\n",
    "ENTITY_PATH = admin_client.entity_type_path(PROJECT_ID, LOCATION, FEATURESTORE_ID, ENTITY)\n",
    "FEATURE_PATH = admin_client.feature_path(PROJECT_ID, LOCATION, FEATURESTORE_ID, ENTITY, '{}')\n",
    "\n",
    "print(\"Location: \\t\", LOC_PATH)\n",
    "print(\"Feature Store: \\t\", FS_PATH)\n",
    "print(\"Entity: \\t\", ENTITY_PATH)\n",
    "print(\"Feature: \\t\",FEATURE_PATH)"
   ]
  },
  {
   "cell_type": "markdown",
   "id": "58283a49",
   "metadata": {},
   "source": [
    "## Read Values from FS Online Storage - Real time!"
   ]
  },
  {
   "cell_type": "code",
   "execution_count": null,
   "id": "6150554c",
   "metadata": {},
   "outputs": [],
   "source": [
    "feature_selector = feature_selector_pb2.FeatureSelector(\n",
    "    id_matcher=feature_selector_pb2.IdMatcher(\n",
    "        ids=[\"avg_max_temp_5d\", \"arr_max_temp_3d\", \"max_temp_std\"]))"
   ]
  },
  {
   "cell_type": "code",
   "execution_count": null,
   "id": "64325e15",
   "metadata": {},
   "outputs": [],
   "source": [
    "%%time\n",
    "data_client.read_feature_values(\n",
    "    featurestore_online_service_pb2.ReadFeatureValuesRequest(\n",
    "        entity_type=ENTITY_PATH,\n",
    "        entity_id=\"mars\",\n",
    "        feature_selector=feature_selector))"
   ]
  },
  {
   "cell_type": "code",
   "execution_count": null,
   "id": "cc03c553",
   "metadata": {},
   "outputs": [],
   "source": [
    "%%time\n",
    "response_stream = data_client.streaming_read_feature_values(\n",
    "    featurestore_online_service_pb2.StreamingReadFeatureValuesRequest(\n",
    "        entity_type=ENTITY_PATH,\n",
    "        entity_ids=[\"mars\", \"jupyter\"],\n",
    "        feature_selector=feature_selector))\n",
    "\n",
    "for response in response_stream:\n",
    "  print(response)"
   ]
  },
  {
   "cell_type": "code",
   "execution_count": null,
   "id": "c802621e",
   "metadata": {},
   "outputs": [],
   "source": [
    "EXPORT_TABLE_URI = \"bq://feature-store-mars21.training.planet_data_v5\"\n",
    "FEATURE_REQ_CSV_PATH = \"gs://feature-store-mars21/feature-request.csv\""
   ]
  },
  {
   "cell_type": "code",
   "execution_count": null,
   "id": "7132f4b7",
   "metadata": {},
   "outputs": [],
   "source": [
    "batch_serving_request = featurestore_service_pb2.BatchReadFeatureValuesRequest(\n",
    "    featurestore=FS_PATH,\n",
    "    csv_read_instances=io_pb2.CsvSource(\n",
    "        gcs_source=io_pb2.GcsSource(uris=[FEATURE_REQ_CSV_PATH])),\n",
    "    \n",
    "    # Output info\n",
    "    destination=featurestore_service_pb2.FeatureValueDestination(\n",
    "        bigquery_destination=io_pb2.BigQueryDestination(\n",
    "            # output to BigQuery table\n",
    "            output_uri=EXPORT_TABLE_URI)),\n",
    "    #destination=featurestore_service_pb2.FeatureValueDestination(\n",
    "    #    tfrecord_destination=io_pb2.CsvDestination(\n",
    "    #        gcs_destination=EXPORT_TF_PATH)),\n",
    "   \n",
    "\n",
    "    # Select features to read\n",
    "    entity_type_specs=[\n",
    "        featurestore_service_pb2.BatchReadFeatureValuesRequest.EntityTypeSpec(\n",
    "            # read feature values of features subscriber_type and duration_minutes from \"bikes\"\n",
    "            entity_type_id=ENTITY, \n",
    "            feature_selector=feature_selector\n",
    "        ),\n",
    "        #featurestore_service_pb2.BatchReadFeatureValuesRequest.EntityTypeSpec(\n",
    "        #    entity_type_id=\"spaceships\",\n",
    "        #    feature_selector=feature_selector_pb2.FeatureSelector(\n",
    "        #        id_matcher=feature_selector_pb2.IdMatcher(\n",
    "        #            ids=[\"size\", \"speed\"])))\n",
    "    ])"
   ]
  },
  {
   "cell_type": "code",
   "execution_count": null,
   "id": "946f8bc3",
   "metadata": {},
   "outputs": [],
   "source": [
    "%%time\n",
    "try:\n",
    "    print(admin_client.batch_read_feature_values(batch_serving_request).result())\n",
    "except Exception as ex:\n",
    "    print(ex)"
   ]
  },
  {
   "cell_type": "code",
   "execution_count": null,
   "id": "bdc4e312",
   "metadata": {},
   "outputs": [],
   "source": []
  }
 ],
 "metadata": {
  "environment": {
   "name": "common-cpu.m69",
   "type": "gcloud",
   "uri": "gcr.io/deeplearning-platform-release/base-cpu:m69"
  },
  "kernelspec": {
   "display_name": "Python 3",
   "language": "python",
   "name": "python3"
  },
  "language_info": {
   "codemirror_mode": {
    "name": "ipython",
    "version": 3
   },
   "file_extension": ".py",
   "mimetype": "text/x-python",
   "name": "python",
   "nbconvert_exporter": "python",
   "pygments_lexer": "ipython3",
   "version": "3.7.10"
  }
 },
 "nbformat": 4,
 "nbformat_minor": 5
}
